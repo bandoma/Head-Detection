{
  "cells": [
    {
      "cell_type": "code",
      "execution_count": null,
      "metadata": {
        "colab": {
          "base_uri": "https://localhost:8080/"
        },
        "id": "scZKwn_3LNuT",
        "outputId": "0ddf97b5-cfe4-4ebf-c2df-f5861837353b"
      },
      "outputs": [
        {
          "name": "stdout",
          "output_type": "stream",
          "text": [
            "Mounted at /content/drive/\n"
          ]
        }
      ],
      "source": [
        "from google.colab import drive\n",
        "drive.mount('/content/drive/', force_remount=True)"
      ]
    },
    {
      "cell_type": "code",
      "execution_count": null,
      "metadata": {
        "colab": {
          "base_uri": "https://localhost:8080/"
        },
        "id": "E5MKZd-07wrc",
        "outputId": "e1ba2658-1398-4941-c2ce-bb306983ea89"
      },
      "outputs": [
        {
          "name": "stdout",
          "output_type": "stream",
          "text": [
            "Drive already mounted at /content/drive; to attempt to forcibly remount, call drive.mount(\"/content/drive\", force_remount=True).\n"
          ]
        }
      ],
      "source": [
        "from google.colab import drive\n",
        "drive.mount('/content/drive')"
      ]
    },
    {
      "cell_type": "code",
      "execution_count": null,
      "metadata": {
        "colab": {
          "base_uri": "https://localhost:8080/"
        },
        "id": "2IePJc912XyK",
        "outputId": "8d4ecf13-e05b-4381-cad4-6fd0b134c841"
      },
      "outputs": [
        {
          "name": "stdout",
          "output_type": "stream",
          "text": [
            "/content/drive/MyDrive\n",
            "fatal: destination path 'yolov5' already exists and is not an empty directory.\n"
          ]
        }
      ],
      "source": [
        "%cd /content/drive/MyDrive\n",
        "!git clone https://github.com/ultralytics/yolov5  # clone\n"
      ]
    },
    {
      "cell_type": "code",
      "execution_count": null,
      "metadata": {
        "colab": {
          "base_uri": "https://localhost:8080/"
        },
        "id": "SZs3xLEA2cw5",
        "outputId": "036104d1-67db-4e39-c29b-8d6adf35abe4"
      },
      "outputs": [
        {
          "name": "stdout",
          "output_type": "stream",
          "text": [
            "/content/drive/MyDrive/yolov5\n",
            "\u001b[2K     \u001b[90m━━━━━━━━━━━━━━━━━━━━━━━━━━━━━━━━━━━━━━━\u001b[0m \u001b[32m188.5/188.5 kB\u001b[0m \u001b[31m2.9 MB/s\u001b[0m eta \u001b[36m0:00:00\u001b[0m\n",
            "\u001b[2K     \u001b[90m━━━━━━━━━━━━━━━━━━━━━━━━━━━━━━━━━━━━━━━\u001b[0m \u001b[32m614.9/614.9 kB\u001b[0m \u001b[31m8.9 MB/s\u001b[0m eta \u001b[36m0:00:00\u001b[0m\n",
            "\u001b[2K     \u001b[90m━━━━━━━━━━━━━━━━━━━━━━━━━━━━━━━━━━━━━━━━\u001b[0m \u001b[32m62.7/62.7 kB\u001b[0m \u001b[31m6.5 MB/s\u001b[0m eta \u001b[36m0:00:00\u001b[0m\n",
            "\u001b[?25h"
          ]
        }
      ],
      "source": [
        "%cd /content/drive/MyDrive/yolov5\n",
        "%pip install -qr requirements.txt  # install\n"
      ]
    },
    {
      "cell_type": "code",
      "execution_count": null,
      "metadata": {
        "colab": {
          "base_uri": "https://localhost:8080/"
        },
        "id": "nCWi0NA22gqI",
        "outputId": "06e08753-8d13-4cf0-dcd1-7d4c7866443d"
      },
      "outputs": [
        {
          "name": "stderr",
          "output_type": "stream",
          "text": [
            "YOLOv5 🚀 v7.0-203-g0897415 Python-3.10.12 torch-2.0.1+cu118 CUDA:0 (Tesla T4, 15102MiB)\n"
          ]
        },
        {
          "name": "stdout",
          "output_type": "stream",
          "text": [
            "Setup complete ✅ (2 CPUs, 12.7 GB RAM, 24.4/78.2 GB disk)\n"
          ]
        }
      ],
      "source": [
        "import torch\n",
        "from drive.MyDrive.yolov5 import utils\n",
        "display = utils.notebook_init()  # checks\n"
      ]
    },
    {
      "cell_type": "code",
      "execution_count": null,
      "metadata": {
        "colab": {
          "base_uri": "https://localhost:8080/"
        },
        "id": "dcIBVOtV2xTy",
        "outputId": "ef17ed7c-ae32-438a-9574-2b40e9d5e10d"
      },
      "outputs": [
        {
          "name": "stdout",
          "output_type": "stream",
          "text": [
            "\n",
            "UNRAR 6.11 beta 1 freeware      Copyright (c) 1993-2022 Alexander Roshal\n",
            "\n",
            "\n",
            "Extracting from /content/drive/MyDrive/train_data.rar\n",
            "\n",
            "\n",
            "Would you like to replace the existing file ./data/train_data/images/train/images (1).jpg\n",
            " 13436 bytes, modified on 2023-08-07 07:14\n",
            "with a new one\n",
            " 13436 bytes, modified on 2023-08-07 07:14\n",
            "\n",
            "[Y]es, [N]o, [A]ll, n[E]ver, [R]ename, [Q]uit Q\n",
            "\n",
            "Program aborted\n"
          ]
        }
      ],
      "source": [
        "!unrar x \"/content/drive/MyDrive/train_data.rar\" \"./data\"\n"
      ]
    },
    {
      "cell_type": "code",
      "execution_count": null,
      "metadata": {
        "id": "AvKdWuM829ri"
      },
      "outputs": [],
      "source": [
        "train: \"../yolov5/data/train_data/images/train/\"  # train images (relative to 'path') 128 images\n",
        "val: \"../yolov5/data/train_data/images/val/\" # val images (relative to 'path') 128 images\n",
        "\n",
        "\n",
        "# Classes\n",
        "nc:  1 # number of classes\n",
        "names: []  # class names\n"
      ]
    },
    {
      "cell_type": "code",
      "execution_count": null,
      "metadata": {
        "colab": {
          "base_uri": "https://localhost:8080/"
        },
        "id": "dMbLSpRm58Vp",
        "outputId": "0b83759a-cb32-4344-a26b-77a711c9e061"
      },
      "outputs": [
        {
          "name": "stdout",
          "output_type": "stream",
          "text": [
            "Q\n",
            "\u001b[34m\u001b[1mtrain: \u001b[0mweights=yolov5s.pt, cfg=, data=custom_data.yaml, hyp=data/hyps/hyp.scratch-low.yaml, epochs=60, batch_size=16, imgsz=640, rect=False, resume=False, nosave=False, noval=False, noautoanchor=False, noplots=False, evolve=None, bucket=, cache=None, image_weights=False, device=, multi_scale=False, single_cls=False, optimizer=SGD, sync_bn=False, workers=8, project=runs/train, name=exp, exist_ok=False, quad=False, cos_lr=False, label_smoothing=0.0, patience=100, freeze=[0], save_period=-1, seed=0, local_rank=-1, entity=None, upload_dataset=False, bbox_interval=-1, artifact_alias=latest\n",
            "\u001b[34m\u001b[1mgithub: \u001b[0mup to date with https://github.com/ultralytics/yolov5 ✅\n",
            "YOLOv5 🚀 v7.0-203-g0897415 Python-3.10.12 torch-2.0.1+cu118 CUDA:0 (Tesla T4, 15102MiB)\n",
            "\n",
            "\u001b[34m\u001b[1mhyperparameters: \u001b[0mlr0=0.01, lrf=0.01, momentum=0.937, weight_decay=0.0005, warmup_epochs=3.0, warmup_momentum=0.8, warmup_bias_lr=0.1, box=0.05, cls=0.5, cls_pw=1.0, obj=1.0, obj_pw=1.0, iou_t=0.2, anchor_t=4.0, fl_gamma=0.0, hsv_h=0.015, hsv_s=0.7, hsv_v=0.4, degrees=0.0, translate=0.1, scale=0.5, shear=0.0, perspective=0.0, flipud=0.0, fliplr=0.5, mosaic=1.0, mixup=0.0, copy_paste=0.0\n",
            "\u001b[34m\u001b[1mComet: \u001b[0mrun 'pip install comet_ml' to automatically track and visualize YOLOv5 🚀 runs in Comet\n",
            "\u001b[34m\u001b[1mTensorBoard: \u001b[0mStart with 'tensorboard --logdir runs/train', view at http://localhost:6006/\n",
            "\n",
            "                 from  n    params  module                                  arguments                     \n",
            "  0                -1  1      3520  models.common.Conv                      [3, 32, 6, 2, 2]              \n",
            "  1                -1  1     18560  models.common.Conv                      [32, 64, 3, 2]                \n",
            "  2                -1  1     18816  models.common.C3                        [64, 64, 1]                   \n",
            "  3                -1  1     73984  models.common.Conv                      [64, 128, 3, 2]               \n",
            "  4                -1  2    115712  models.common.C3                        [128, 128, 2]                 \n",
            "  5                -1  1    295424  models.common.Conv                      [128, 256, 3, 2]              \n",
            "  6                -1  3    625152  models.common.C3                        [256, 256, 3]                 \n",
            "  7                -1  1   1180672  models.common.Conv                      [256, 512, 3, 2]              \n",
            "  8                -1  1   1182720  models.common.C3                        [512, 512, 1]                 \n",
            "  9                -1  1    656896  models.common.SPPF                      [512, 512, 5]                 \n",
            " 10                -1  1    131584  models.common.Conv                      [512, 256, 1, 1]              \n",
            " 11                -1  1         0  torch.nn.modules.upsampling.Upsample    [None, 2, 'nearest']          \n",
            " 12           [-1, 6]  1         0  models.common.Concat                    [1]                           \n",
            " 13                -1  1    361984  models.common.C3                        [512, 256, 1, False]          \n",
            " 14                -1  1     33024  models.common.Conv                      [256, 128, 1, 1]              \n",
            " 15                -1  1         0  torch.nn.modules.upsampling.Upsample    [None, 2, 'nearest']          \n",
            " 16           [-1, 4]  1         0  models.common.Concat                    [1]                           \n",
            " 17                -1  1     90880  models.common.C3                        [256, 128, 1, False]          \n",
            " 18                -1  1    147712  models.common.Conv                      [128, 128, 3, 2]              \n",
            " 19          [-1, 14]  1         0  models.common.Concat                    [1]                           \n",
            " 20                -1  1    296448  models.common.C3                        [256, 256, 1, False]          \n",
            " 21                -1  1    590336  models.common.Conv                      [256, 256, 3, 2]              \n",
            " 22          [-1, 10]  1         0  models.common.Concat                    [1]                           \n",
            " 23                -1  1   1182720  models.common.C3                        [512, 512, 1, False]          \n",
            " 24      [17, 20, 23]  1    229245  models.yolo.Detect                      [80, [[10, 13, 16, 30, 33, 23], [30, 61, 62, 45, 59, 119], [116, 90, 156, 198, 373, 326]], [128, 256, 512]]\n",
            "Model summary: 214 layers, 7235389 parameters, 7235389 gradients, 16.6 GFLOPs\n",
            "\n",
            "Transferred 349/349 items from yolov5s.pt\n",
            "\u001b[34m\u001b[1mAMP: \u001b[0mchecks passed ✅\n",
            "\u001b[34m\u001b[1moptimizer:\u001b[0m SGD(lr=0.01) with parameter groups 57 weight(decay=0.0), 60 weight(decay=0.0005), 60 bias\n",
            "\u001b[34m\u001b[1malbumentations: \u001b[0mBlur(p=0.01, blur_limit=(3, 7)), MedianBlur(p=0.01, blur_limit=(3, 7)), ToGray(p=0.01), CLAHE(p=0.01, clip_limit=(1, 4.0), tile_grid_size=(8, 8))\n",
            "\u001b[34m\u001b[1mtrain: \u001b[0mScanning /content/drive/MyDrive/datasets/coco128/labels/train2017.cache... 126 images, 2 backgrounds, 0 corrupt: 100% 128/128 [00:00<?, ?it/s]\n",
            "\u001b[34m\u001b[1mval: \u001b[0mScanning /content/drive/MyDrive/datasets/coco128/labels/train2017.cache... 126 images, 2 backgrounds, 0 corrupt: 100% 128/128 [00:00<?, ?it/s]\n",
            "\n",
            "\u001b[34m\u001b[1mAutoAnchor: \u001b[0m4.27 anchors/target, 0.994 Best Possible Recall (BPR). Current anchors are a good fit to dataset ✅\n",
            "Plotting labels to runs/train/exp2/labels.jpg... \n",
            "Image sizes 640 train, 640 val\n",
            "Using 2 dataloader workers\n",
            "Logging results to \u001b[1mruns/train/exp2\u001b[0m\n",
            "Starting training for 60 epochs...\n",
            "\n",
            "      Epoch    GPU_mem   box_loss   obj_loss   cls_loss  Instances       Size\n",
            "       0/59      3.91G    0.04618    0.07209    0.01703        232        640: 100% 8/8 [00:11<00:00,  1.40s/it]\n",
            "                 Class     Images  Instances          P          R      mAP50   mAP50-95: 100% 4/4 [00:04<00:00,  1.18s/it]\n",
            "                   all        128        929      0.667      0.602       0.68       0.45\n",
            "\n",
            "      Epoch    GPU_mem   box_loss   obj_loss   cls_loss  Instances       Size\n",
            "       1/59      4.76G    0.04617    0.06875    0.01806        201        640: 100% 8/8 [00:04<00:00,  1.73it/s]\n",
            "                 Class     Images  Instances          P          R      mAP50   mAP50-95: 100% 4/4 [00:03<00:00,  1.08it/s]\n",
            "                   all        128        929       0.71      0.634      0.715      0.479\n",
            "\n",
            "      Epoch    GPU_mem   box_loss   obj_loss   cls_loss  Instances       Size\n",
            "       2/59      4.76G    0.04358    0.06412    0.01646        227        640: 100% 8/8 [00:03<00:00,  2.55it/s]\n",
            "                 Class     Images  Instances          P          R      mAP50   mAP50-95: 100% 4/4 [00:02<00:00,  1.38it/s]\n",
            "                   all        128        929      0.746      0.658      0.749       0.49\n",
            "\n",
            "      Epoch    GPU_mem   box_loss   obj_loss   cls_loss  Instances       Size\n",
            "       3/59      4.76G    0.04412    0.06193    0.01579        215        640: 100% 8/8 [00:04<00:00,  1.69it/s]\n",
            "                 Class     Images  Instances          P          R      mAP50   mAP50-95: 100% 4/4 [00:03<00:00,  1.20it/s]\n",
            "                   all        128        929      0.794      0.643      0.767      0.509\n",
            "\n",
            "      Epoch    GPU_mem   box_loss   obj_loss   cls_loss  Instances       Size\n",
            "       4/59      4.76G    0.04407    0.06356    0.01491        248        640: 100% 8/8 [00:03<00:00,  2.58it/s]\n",
            "                 Class     Images  Instances          P          R      mAP50   mAP50-95: 100% 4/4 [00:04<00:00,  1.11s/it]\n",
            "                   all        128        929      0.715      0.696       0.78      0.493\n",
            "\n",
            "      Epoch    GPU_mem   box_loss   obj_loss   cls_loss  Instances       Size\n",
            "       5/59      4.76G    0.04323    0.06061    0.01309        309        640: 100% 8/8 [00:03<00:00,  2.37it/s]\n",
            "                 Class     Images  Instances          P          R      mAP50   mAP50-95: 100% 4/4 [00:02<00:00,  1.39it/s]\n",
            "                   all        128        929      0.708      0.725      0.781       0.49\n",
            "\n",
            "      Epoch    GPU_mem   box_loss   obj_loss   cls_loss  Instances       Size\n",
            "       6/59      4.76G    0.04524    0.05428    0.01163        167        640: 100% 8/8 [00:02<00:00,  2.69it/s]\n",
            "                 Class     Images  Instances          P          R      mAP50   mAP50-95: 100% 4/4 [00:04<00:00,  1.07s/it]\n",
            "                   all        128        929       0.75      0.704      0.794       0.49\n",
            "\n",
            "      Epoch    GPU_mem   box_loss   obj_loss   cls_loss  Instances       Size\n",
            "       7/59      4.76G    0.04372    0.05545    0.01075        157        640: 100% 8/8 [00:03<00:00,  2.58it/s]\n",
            "                 Class     Images  Instances          P          R      mAP50   mAP50-95: 100% 4/4 [00:03<00:00,  1.29it/s]\n",
            "                   all        128        929      0.658      0.711      0.749      0.457\n",
            "\n",
            "      Epoch    GPU_mem   box_loss   obj_loss   cls_loss  Instances       Size\n",
            "       8/59      4.76G    0.04819    0.05491    0.01021        190        640: 100% 8/8 [00:03<00:00,  2.62it/s]\n",
            "                 Class     Images  Instances          P          R      mAP50   mAP50-95: 100% 4/4 [00:04<00:00,  1.18s/it]\n",
            "                   all        128        929       0.73      0.732      0.804      0.507\n",
            "\n",
            "      Epoch    GPU_mem   box_loss   obj_loss   cls_loss  Instances       Size\n",
            "       9/59      4.76G    0.04768    0.05487    0.01172        185        640: 100% 8/8 [00:02<00:00,  2.73it/s]\n",
            "                 Class     Images  Instances          P          R      mAP50   mAP50-95: 100% 4/4 [00:02<00:00,  1.45it/s]\n",
            "                   all        128        929      0.787      0.731      0.815      0.507\n",
            "\n",
            "      Epoch    GPU_mem   box_loss   obj_loss   cls_loss  Instances       Size\n",
            "      10/59      4.76G    0.04579    0.05542    0.01154        205        640: 100% 8/8 [00:03<00:00,  2.20it/s]\n",
            "                 Class     Images  Instances          P          R      mAP50   mAP50-95: 100% 4/4 [00:04<00:00,  1.13s/it]\n",
            "                   all        128        929      0.806      0.711      0.794      0.503\n",
            "\n",
            "      Epoch    GPU_mem   box_loss   obj_loss   cls_loss  Instances       Size\n",
            "      11/59      4.76G    0.04983    0.05592    0.01084        238        640: 100% 8/8 [00:03<00:00,  2.59it/s]\n",
            "                 Class     Images  Instances          P          R      mAP50   mAP50-95: 100% 4/4 [00:02<00:00,  1.45it/s]\n",
            "                   all        128        929       0.83      0.746      0.821      0.509\n",
            "\n",
            "      Epoch    GPU_mem   box_loss   obj_loss   cls_loss  Instances       Size\n",
            "      12/59      4.76G    0.04675    0.05301    0.01109        232        640: 100% 8/8 [00:04<00:00,  1.75it/s]\n",
            "                 Class     Images  Instances          P          R      mAP50   mAP50-95: 100% 4/4 [00:03<00:00,  1.00it/s]\n",
            "                   all        128        929      0.747      0.799      0.822      0.515\n",
            "\n",
            "      Epoch    GPU_mem   box_loss   obj_loss   cls_loss  Instances       Size\n",
            "      13/59      4.76G    0.04471    0.05078    0.01216        180        640: 100% 8/8 [00:03<00:00,  2.66it/s]\n",
            "                 Class     Images  Instances          P          R      mAP50   mAP50-95: 100% 4/4 [00:03<00:00,  1.29it/s]\n",
            "                   all        128        929      0.768      0.762      0.806      0.495\n",
            "\n",
            "      Epoch    GPU_mem   box_loss   obj_loss   cls_loss  Instances       Size\n",
            "      14/59      4.76G    0.04621    0.05597    0.01119        217        640: 100% 8/8 [00:04<00:00,  1.67it/s]\n",
            "                 Class     Images  Instances          P          R      mAP50   mAP50-95: 100% 4/4 [00:02<00:00,  1.47it/s]\n",
            "                   all        128        929      0.765      0.768      0.807      0.516\n",
            "\n",
            "      Epoch    GPU_mem   box_loss   obj_loss   cls_loss  Instances       Size\n",
            "      15/59      4.76G     0.0468    0.05323    0.01018        264        640: 100% 8/8 [00:02<00:00,  2.70it/s]\n",
            "                 Class     Images  Instances          P          R      mAP50   mAP50-95: 100% 4/4 [00:02<00:00,  1.58it/s]\n",
            "                   all        128        929      0.813      0.767      0.826      0.534\n",
            "\n",
            "      Epoch    GPU_mem   box_loss   obj_loss   cls_loss  Instances       Size\n",
            "      16/59      4.76G    0.04413    0.05385   0.009603        242        640: 100% 8/8 [00:04<00:00,  1.86it/s]\n",
            "                 Class     Images  Instances          P          R      mAP50   mAP50-95: 100% 4/4 [00:03<00:00,  1.23it/s]\n",
            "                   all        128        929      0.768      0.806      0.838      0.511\n",
            "\n",
            "      Epoch    GPU_mem   box_loss   obj_loss   cls_loss  Instances       Size\n",
            "      17/59      4.76G    0.04384    0.04757    0.01003        200        640: 100% 8/8 [00:02<00:00,  2.70it/s]\n",
            "                 Class     Images  Instances          P          R      mAP50   mAP50-95: 100% 4/4 [00:03<00:00,  1.17it/s]\n",
            "                   all        128        929      0.851      0.751      0.847      0.554\n",
            "\n",
            "      Epoch    GPU_mem   box_loss   obj_loss   cls_loss  Instances       Size\n",
            "      18/59      4.76G    0.04116     0.0487    0.01123        148        640: 100% 8/8 [00:03<00:00,  2.24it/s]\n",
            "                 Class     Images  Instances          P          R      mAP50   mAP50-95: 100% 4/4 [00:02<00:00,  1.46it/s]\n",
            "                   all        128        929      0.834      0.755      0.845      0.542\n",
            "\n",
            "      Epoch    GPU_mem   box_loss   obj_loss   cls_loss  Instances       Size\n",
            "      19/59      4.76G    0.04586     0.0514    0.01002        205        640: 100% 8/8 [00:03<00:00,  2.58it/s]\n",
            "                 Class     Images  Instances          P          R      mAP50   mAP50-95: 100% 4/4 [00:03<00:00,  1.09it/s]\n",
            "                   all        128        929      0.829        0.8      0.865      0.563\n",
            "\n",
            "      Epoch    GPU_mem   box_loss   obj_loss   cls_loss  Instances       Size\n",
            "      20/59      4.76G    0.04294    0.04759   0.009997        208        640: 100% 8/8 [00:03<00:00,  2.49it/s]\n",
            "                 Class     Images  Instances          P          R      mAP50   mAP50-95: 100% 4/4 [00:02<00:00,  1.36it/s]\n",
            "                   all        128        929      0.843      0.809      0.869      0.577\n",
            "\n",
            "      Epoch    GPU_mem   box_loss   obj_loss   cls_loss  Instances       Size\n",
            "      21/59      4.76G    0.03944    0.05094     0.0108        198        640: 100% 8/8 [00:03<00:00,  2.32it/s]\n",
            "                 Class     Images  Instances          P          R      mAP50   mAP50-95: 100% 4/4 [00:05<00:00,  1.33s/it]\n",
            "                   all        128        929      0.882      0.819      0.879       0.59\n",
            "\n",
            "      Epoch    GPU_mem   box_loss   obj_loss   cls_loss  Instances       Size\n",
            "      22/59      4.76G    0.04118    0.05045   0.008494        225        640: 100% 8/8 [00:03<00:00,  2.57it/s]\n",
            "                 Class     Images  Instances          P          R      mAP50   mAP50-95: 100% 4/4 [00:03<00:00,  1.17it/s]\n",
            "                   all        128        929      0.825      0.809      0.864      0.569\n",
            "\n",
            "      Epoch    GPU_mem   box_loss   obj_loss   cls_loss  Instances       Size\n",
            "      23/59      4.76G    0.04199    0.05156   0.009281        241        640: 100% 8/8 [00:04<00:00,  1.74it/s]\n",
            "                 Class     Images  Instances          P          R      mAP50   mAP50-95: 100% 4/4 [00:03<00:00,  1.16it/s]\n",
            "                   all        128        929      0.835      0.801      0.869      0.571\n",
            "\n",
            "      Epoch    GPU_mem   box_loss   obj_loss   cls_loss  Instances       Size\n",
            "      24/59      4.76G    0.04135    0.05082   0.008457        253        640: 100% 8/8 [00:03<00:00,  2.56it/s]\n",
            "                 Class     Images  Instances          P          R      mAP50   mAP50-95: 100% 4/4 [00:03<00:00,  1.28it/s]\n",
            "                   all        128        929      0.838      0.808      0.873      0.575\n",
            "\n",
            "      Epoch    GPU_mem   box_loss   obj_loss   cls_loss  Instances       Size\n",
            "      25/59      4.76G    0.04076    0.04431   0.009281        171        640: 100% 8/8 [00:04<00:00,  1.65it/s]\n",
            "                 Class     Images  Instances          P          R      mAP50   mAP50-95: 100% 4/4 [00:03<00:00,  1.07it/s]\n",
            "                   all        128        929      0.822      0.815       0.88      0.601\n",
            "\n",
            "      Epoch    GPU_mem   box_loss   obj_loss   cls_loss  Instances       Size\n",
            "      26/59      4.76G    0.04134    0.05095   0.007687        218        640: 100% 8/8 [00:03<00:00,  2.59it/s]\n",
            "                 Class     Images  Instances          P          R      mAP50   mAP50-95: 100% 4/4 [00:02<00:00,  1.51it/s]\n",
            "                   all        128        929      0.827      0.837      0.885      0.602\n",
            "\n",
            "      Epoch    GPU_mem   box_loss   obj_loss   cls_loss  Instances       Size\n",
            "      27/59      4.76G    0.03865    0.05071   0.007308        199        640: 100% 8/8 [00:04<00:00,  1.86it/s]\n",
            "                 Class     Images  Instances          P          R      mAP50   mAP50-95: 100% 4/4 [00:02<00:00,  1.36it/s]\n",
            "                   all        128        929      0.863      0.811      0.879      0.597\n",
            "\n",
            "      Epoch    GPU_mem   box_loss   obj_loss   cls_loss  Instances       Size\n",
            "      28/59      4.76G    0.04022    0.04715   0.007954        231        640: 100% 8/8 [00:03<00:00,  2.42it/s]\n",
            "                 Class     Images  Instances          P          R      mAP50   mAP50-95: 100% 4/4 [00:03<00:00,  1.06it/s]\n",
            "                   all        128        929       0.86      0.836      0.894      0.618\n",
            "\n",
            "      Epoch    GPU_mem   box_loss   obj_loss   cls_loss  Instances       Size\n",
            "      29/59      4.76G    0.03987    0.04553   0.007376        199        640: 100% 8/8 [00:03<00:00,  2.44it/s]\n",
            "                 Class     Images  Instances          P          R      mAP50   mAP50-95: 100% 4/4 [00:02<00:00,  1.34it/s]\n",
            "                   all        128        929       0.85      0.848      0.901       0.63\n",
            "\n",
            "      Epoch    GPU_mem   box_loss   obj_loss   cls_loss  Instances       Size\n",
            "      30/59      4.76G    0.03914    0.04321    0.00711        182        640: 100% 8/8 [00:03<00:00,  2.58it/s]\n",
            "                 Class     Images  Instances          P          R      mAP50   mAP50-95: 100% 4/4 [00:04<00:00,  1.21s/it]\n",
            "                   all        128        929      0.906      0.818        0.9      0.637\n",
            "\n",
            "      Epoch    GPU_mem   box_loss   obj_loss   cls_loss  Instances       Size\n",
            "      31/59      4.76G    0.03991    0.04285   0.008061        212        640: 100% 8/8 [00:03<00:00,  2.44it/s]\n",
            "                 Class     Images  Instances          P          R      mAP50   mAP50-95: 100% 4/4 [00:02<00:00,  1.35it/s]\n",
            "                   all        128        929      0.884      0.835      0.907      0.635\n",
            "\n",
            "      Epoch    GPU_mem   box_loss   obj_loss   cls_loss  Instances       Size\n",
            "      32/59      4.76G    0.04015    0.05294   0.007465        256        640: 100% 8/8 [00:04<00:00,  1.87it/s]\n",
            "                 Class     Images  Instances          P          R      mAP50   mAP50-95: 100% 4/4 [00:04<00:00,  1.07s/it]\n",
            "                   all        128        929      0.884      0.836      0.902      0.648\n",
            "\n",
            "      Epoch    GPU_mem   box_loss   obj_loss   cls_loss  Instances       Size\n",
            "      33/59      4.76G    0.03907    0.04488   0.007368        208        640: 100% 8/8 [00:03<00:00,  2.66it/s]\n",
            "                 Class     Images  Instances          P          R      mAP50   mAP50-95: 100% 4/4 [00:02<00:00,  1.39it/s]\n",
            "                   all        128        929      0.892      0.835      0.904      0.653\n",
            "\n",
            "      Epoch    GPU_mem   box_loss   obj_loss   cls_loss  Instances       Size\n",
            "      34/59      4.76G    0.03872    0.04793   0.006963        194        640: 100% 8/8 [00:05<00:00,  1.60it/s]\n",
            "                 Class     Images  Instances          P          R      mAP50   mAP50-95: 100% 4/4 [00:03<00:00,  1.31it/s]\n",
            "                   all        128        929      0.888      0.833      0.904       0.64\n",
            "\n",
            "      Epoch    GPU_mem   box_loss   obj_loss   cls_loss  Instances       Size\n",
            "      35/59      4.76G    0.03735    0.04166   0.007064        203        640: 100% 8/8 [00:03<00:00,  2.58it/s]\n",
            "                 Class     Images  Instances          P          R      mAP50   mAP50-95: 100% 4/4 [00:02<00:00,  1.43it/s]\n",
            "                   all        128        929      0.922      0.831       0.91      0.654\n",
            "\n",
            "      Epoch    GPU_mem   box_loss   obj_loss   cls_loss  Instances       Size\n",
            "      36/59      4.76G    0.03746    0.04413   0.006845        168        640: 100% 8/8 [00:04<00:00,  1.67it/s]\n",
            "                 Class     Images  Instances          P          R      mAP50   mAP50-95: 100% 4/4 [00:02<00:00,  1.38it/s]\n",
            "                   all        128        929      0.909      0.838      0.908      0.648\n",
            "\n",
            "      Epoch    GPU_mem   box_loss   obj_loss   cls_loss  Instances       Size\n",
            "      37/59      4.76G    0.03768    0.05045   0.006844        246        640: 100% 8/8 [00:03<00:00,  2.59it/s]\n",
            "                 Class     Images  Instances          P          R      mAP50   mAP50-95: 100% 4/4 [00:02<00:00,  1.45it/s]\n",
            "                   all        128        929      0.888      0.852      0.906      0.646\n",
            "\n",
            "      Epoch    GPU_mem   box_loss   obj_loss   cls_loss  Instances       Size\n",
            "      38/59      4.76G    0.03561    0.04277    0.00618        210        640: 100% 8/8 [00:04<00:00,  1.68it/s]\n",
            "                 Class     Images  Instances          P          R      mAP50   mAP50-95: 100% 4/4 [00:02<00:00,  1.40it/s]\n",
            "                   all        128        929      0.889      0.843      0.905      0.655\n",
            "\n",
            "      Epoch    GPU_mem   box_loss   obj_loss   cls_loss  Instances       Size\n",
            "      39/59      4.76G    0.03687    0.04046   0.007158        199        640: 100% 8/8 [00:03<00:00,  2.61it/s]\n",
            "                 Class     Images  Instances          P          R      mAP50   mAP50-95: 100% 4/4 [00:03<00:00,  1.15it/s]\n",
            "                   all        128        929      0.905      0.843       0.91      0.668\n",
            "\n",
            "      Epoch    GPU_mem   box_loss   obj_loss   cls_loss  Instances       Size\n",
            "      40/59      4.76G    0.03729    0.04461   0.006764        259        640: 100% 8/8 [00:03<00:00,  2.13it/s]\n",
            "                 Class     Images  Instances          P          R      mAP50   mAP50-95: 100% 4/4 [00:03<00:00,  1.26it/s]\n",
            "                   all        128        929       0.92      0.842      0.912      0.675\n",
            "\n",
            "      Epoch    GPU_mem   box_loss   obj_loss   cls_loss  Instances       Size\n",
            "      41/59      4.76G    0.03661    0.04365   0.006727        220        640: 100% 8/8 [00:03<00:00,  2.55it/s]\n",
            "                 Class     Images  Instances          P          R      mAP50   mAP50-95: 100% 4/4 [00:04<00:00,  1.07s/it]\n",
            "                   all        128        929      0.912       0.85      0.918      0.676\n",
            "\n",
            "      Epoch    GPU_mem   box_loss   obj_loss   cls_loss  Instances       Size\n",
            "      42/59      4.76G    0.03765    0.04465   0.006094        225        640: 100% 8/8 [00:03<00:00,  2.54it/s]\n",
            "                 Class     Images  Instances          P          R      mAP50   mAP50-95: 100% 4/4 [00:02<00:00,  1.53it/s]\n",
            "                   all        128        929      0.915      0.852      0.919      0.675\n",
            "\n",
            "      Epoch    GPU_mem   box_loss   obj_loss   cls_loss  Instances       Size\n",
            "      43/59      4.76G    0.03573    0.04165   0.006197        247        640: 100% 8/8 [00:03<00:00,  2.49it/s]\n",
            "                 Class     Images  Instances          P          R      mAP50   mAP50-95: 100% 4/4 [00:04<00:00,  1.24s/it]\n",
            "                   all        128        929      0.928      0.852       0.92      0.691\n",
            "\n",
            "      Epoch    GPU_mem   box_loss   obj_loss   cls_loss  Instances       Size\n",
            "      44/59      4.76G    0.03414    0.04027   0.006338        244        640: 100% 8/8 [00:03<00:00,  2.49it/s]\n",
            "                 Class     Images  Instances          P          R      mAP50   mAP50-95: 100% 4/4 [00:02<00:00,  1.53it/s]\n",
            "                   all        128        929       0.94      0.848       0.92      0.695\n",
            "\n",
            "      Epoch    GPU_mem   box_loss   obj_loss   cls_loss  Instances       Size\n",
            "      45/59      4.76G     0.0349    0.03977   0.006253        196        640: 100% 8/8 [00:04<00:00,  1.97it/s]\n",
            "                 Class     Images  Instances          P          R      mAP50   mAP50-95: 100% 4/4 [00:04<00:00,  1.10s/it]\n",
            "                   all        128        929      0.936      0.848      0.924       0.69\n",
            "\n",
            "      Epoch    GPU_mem   box_loss   obj_loss   cls_loss  Instances       Size\n",
            "      46/59      4.76G    0.03474    0.04004   0.005886        287        640: 100% 8/8 [00:03<00:00,  2.60it/s]\n",
            "                 Class     Images  Instances          P          R      mAP50   mAP50-95: 100% 4/4 [00:02<00:00,  1.40it/s]\n",
            "                   all        128        929      0.937      0.845      0.924      0.692\n",
            "\n",
            "      Epoch    GPU_mem   box_loss   obj_loss   cls_loss  Instances       Size\n",
            "      47/59      4.76G     0.0335    0.03746   0.006104        169        640: 100% 8/8 [00:04<00:00,  1.91it/s]\n",
            "                 Class     Images  Instances          P          R      mAP50   mAP50-95: 100% 4/4 [00:03<00:00,  1.00it/s]\n",
            "                   all        128        929      0.935      0.849      0.921       0.69\n",
            "\n",
            "      Epoch    GPU_mem   box_loss   obj_loss   cls_loss  Instances       Size\n",
            "      48/59      4.76G    0.03304    0.04353   0.006235        206        640: 100% 8/8 [00:03<00:00,  2.59it/s]\n",
            "                 Class     Images  Instances          P          R      mAP50   mAP50-95: 100% 4/4 [00:02<00:00,  1.42it/s]\n",
            "                   all        128        929       0.94      0.843      0.922      0.691\n",
            "\n",
            "      Epoch    GPU_mem   box_loss   obj_loss   cls_loss  Instances       Size\n",
            "      49/59      4.76G    0.03458    0.04176   0.006437        154        640: 100% 8/8 [00:04<00:00,  1.75it/s]\n",
            "                 Class     Images  Instances          P          R      mAP50   mAP50-95: 100% 4/4 [00:03<00:00,  1.05it/s]\n",
            "                   all        128        929      0.927      0.849      0.922      0.695\n",
            "\n",
            "      Epoch    GPU_mem   box_loss   obj_loss   cls_loss  Instances       Size\n",
            "      50/59      4.76G    0.03378    0.03905   0.006323        264        640: 100% 8/8 [00:03<00:00,  2.63it/s]\n",
            "                 Class     Images  Instances          P          R      mAP50   mAP50-95: 100% 4/4 [00:03<00:00,  1.32it/s]\n",
            "                   all        128        929      0.927      0.852      0.925      0.699\n",
            "\n",
            "      Epoch    GPU_mem   box_loss   obj_loss   cls_loss  Instances       Size\n",
            "      51/59      4.76G     0.0333    0.04663    0.00572        264        640: 100% 8/8 [00:05<00:00,  1.48it/s]\n",
            "                 Class     Images  Instances          P          R      mAP50   mAP50-95: 100% 4/4 [00:03<00:00,  1.06it/s]\n",
            "                   all        128        929      0.922      0.856      0.927      0.713\n",
            "\n",
            "      Epoch    GPU_mem   box_loss   obj_loss   cls_loss  Instances       Size\n",
            "      52/59      4.76G    0.03298    0.04568   0.005766        266        640: 100% 8/8 [00:03<00:00,  2.36it/s]\n",
            "                 Class     Images  Instances          P          R      mAP50   mAP50-95: 100% 4/4 [00:04<00:00,  1.04s/it]\n",
            "                   all        128        929      0.922      0.857      0.928      0.716\n",
            "\n",
            "      Epoch    GPU_mem   box_loss   obj_loss   cls_loss  Instances       Size\n",
            "      53/59      4.76G     0.0335    0.04131   0.005914        180        640: 100% 8/8 [00:03<00:00,  2.25it/s]\n",
            "                 Class     Images  Instances          P          R      mAP50   mAP50-95: 100% 4/4 [00:03<00:00,  1.32it/s]\n",
            "                   all        128        929       0.93      0.856      0.927      0.718\n",
            "\n",
            "      Epoch    GPU_mem   box_loss   obj_loss   cls_loss  Instances       Size\n",
            "      54/59      4.76G    0.03174    0.03872   0.005732        220        640: 100% 8/8 [00:03<00:00,  2.57it/s]\n",
            "                 Class     Images  Instances          P          R      mAP50   mAP50-95: 100% 4/4 [00:04<00:00,  1.21s/it]\n",
            "                   all        128        929      0.927      0.859      0.925      0.718\n",
            "\n",
            "      Epoch    GPU_mem   box_loss   obj_loss   cls_loss  Instances       Size\n",
            "      55/59      4.76G    0.03346    0.03692   0.006039        285        640: 100% 8/8 [00:02<00:00,  2.74it/s]\n",
            "                 Class     Images  Instances          P          R      mAP50   mAP50-95: 100% 4/4 [00:02<00:00,  1.46it/s]\n",
            "                   all        128        929      0.933      0.853      0.928      0.723\n",
            "\n",
            "      Epoch    GPU_mem   box_loss   obj_loss   cls_loss  Instances       Size\n",
            "      56/59      4.76G    0.03295    0.03773   0.005183        173        640: 100% 8/8 [00:03<00:00,  2.65it/s]\n",
            "                 Class     Images  Instances          P          R      mAP50   mAP50-95: 100% 4/4 [00:04<00:00,  1.13s/it]\n",
            "                   all        128        929       0.93      0.858      0.927      0.724\n",
            "\n",
            "      Epoch    GPU_mem   box_loss   obj_loss   cls_loss  Instances       Size\n",
            "      57/59      4.76G    0.03235    0.04343   0.006028        253        640: 100% 8/8 [00:03<00:00,  2.62it/s]\n",
            "                 Class     Images  Instances          P          R      mAP50   mAP50-95: 100% 4/4 [00:02<00:00,  1.34it/s]\n",
            "                   all        128        929      0.931       0.86       0.93      0.726\n",
            "\n",
            "      Epoch    GPU_mem   box_loss   obj_loss   cls_loss  Instances       Size\n",
            "      58/59      4.76G    0.03437    0.03998   0.006233        185        640: 100% 8/8 [00:04<00:00,  1.96it/s]\n",
            "                 Class     Images  Instances          P          R      mAP50   mAP50-95: 100% 4/4 [00:04<00:00,  1.01s/it]\n",
            "                   all        128        929      0.927      0.861      0.931      0.727\n",
            "\n",
            "      Epoch    GPU_mem   box_loss   obj_loss   cls_loss  Instances       Size\n",
            "      59/59      4.76G     0.0316     0.0398   0.005535        222        640: 100% 8/8 [00:03<00:00,  2.63it/s]\n",
            "                 Class     Images  Instances          P          R      mAP50   mAP50-95: 100% 4/4 [00:03<00:00,  1.31it/s]\n",
            "                   all        128        929      0.931      0.859       0.93      0.733\n",
            "\n",
            "60 epochs completed in 0.142 hours.\n",
            "Optimizer stripped from runs/train/exp2/weights/last.pt, 14.8MB\n",
            "Optimizer stripped from runs/train/exp2/weights/best.pt, 14.8MB\n",
            "\n",
            "Validating runs/train/exp2/weights/best.pt...\n",
            "Fusing layers... \n",
            "Model summary: 157 layers, 7225885 parameters, 0 gradients, 16.4 GFLOPs\n",
            "                 Class     Images  Instances          P          R      mAP50   mAP50-95: 100% 4/4 [00:11<00:00,  2.92s/it]\n",
            "                   all        128        929      0.931      0.859       0.93      0.733\n",
            "                person        128        254      0.986      0.815      0.938       0.72\n",
            "               bicycle        128          6      0.826      0.833       0.81      0.614\n",
            "                   car        128         46          1      0.552      0.756      0.389\n",
            "            motorcycle        128          5      0.944          1      0.995      0.917\n",
            "              airplane        128          6          1          1      0.995      0.892\n",
            "                   bus        128          7      0.941          1      0.995      0.847\n",
            "                 train        128          3          1      0.958      0.995      0.897\n",
            "                 truck        128         12          1       0.75      0.976      0.714\n",
            "                  boat        128          6          1      0.687      0.955      0.676\n",
            "         traffic light        128         14      0.842      0.385      0.671       0.32\n",
            "             stop sign        128          2      0.882          1      0.995      0.846\n",
            "                 bench        128          9          1      0.946      0.995      0.733\n",
            "                  bird        128         16      0.988          1      0.995      0.776\n",
            "                   cat        128          4          1      0.949      0.995      0.817\n",
            "                   dog        128          9      0.963          1      0.995      0.887\n",
            "                 horse        128          2      0.841          1      0.995      0.921\n",
            "              elephant        128         17       0.98      0.941      0.948      0.828\n",
            "                  bear        128          1      0.819          1      0.995      0.895\n",
            "                 zebra        128          4      0.925          1      0.995       0.88\n",
            "               giraffe        128          9      0.982          1      0.995       0.85\n",
            "              backpack        128          6      0.944      0.833      0.837      0.663\n",
            "              umbrella        128         18      0.977      0.944      0.992       0.75\n",
            "               handbag        128         19          1      0.651      0.841      0.562\n",
            "                   tie        128          7          1      0.841      0.858      0.682\n",
            "              suitcase        128          4      0.862          1      0.995      0.921\n",
            "               frisbee        128          5      0.925        0.8        0.8      0.631\n",
            "                  skis        128          1      0.856          1      0.995      0.796\n",
            "             snowboard        128          7      0.851      0.857      0.876      0.628\n",
            "           sports ball        128          6       0.94      0.667      0.789      0.489\n",
            "                  kite        128         10      0.801        0.4      0.841      0.413\n",
            "          baseball bat        128          4       0.87       0.75      0.749      0.524\n",
            "        baseball glove        128          7          1      0.526       0.65      0.447\n",
            "            skateboard        128          5      0.989          1      0.995      0.789\n",
            "         tennis racket        128          7      0.793      0.714      0.749      0.538\n",
            "                bottle        128         18          1      0.534      0.936      0.679\n",
            "            wine glass        128         16      0.787      0.692      0.919      0.567\n",
            "                   cup        128         36      0.904      0.861       0.95      0.731\n",
            "                  fork        128          6      0.955      0.833      0.972      0.722\n",
            "                 knife        128         16          1      0.594      0.855      0.594\n",
            "                 spoon        128         22       0.93      0.727      0.937      0.599\n",
            "                  bowl        128         28          1      0.809      0.879      0.722\n",
            "                banana        128          1      0.861          1      0.995      0.895\n",
            "              sandwich        128          2      0.735          1      0.995      0.796\n",
            "                orange        128          4      0.853          1      0.995      0.759\n",
            "              broccoli        128         11      0.991      0.909      0.988      0.736\n",
            "                carrot        128         24      0.954      0.958      0.987      0.739\n",
            "               hot dog        128          2      0.866          1      0.995      0.995\n",
            "                 pizza        128          5          1      0.876      0.995      0.808\n",
            "                 donut        128         14      0.967          1      0.995      0.897\n",
            "                  cake        128          4      0.889          1      0.995      0.895\n",
            "                 chair        128         35       0.94      0.914      0.966      0.744\n",
            "                 couch        128          6      0.923          1      0.995      0.858\n",
            "          potted plant        128         14      0.963          1      0.995      0.832\n",
            "                   bed        128          3      0.919          1      0.995      0.963\n",
            "          dining table        128         13          1      0.769      0.917       0.67\n",
            "                toilet        128          2      0.892          1      0.995      0.846\n",
            "                    tv        128          2      0.878          1      0.995      0.846\n",
            "                laptop        128          3      0.846      0.667       0.83      0.516\n",
            "                 mouse        128          2      0.907          1      0.995      0.597\n",
            "                remote        128          8        0.9       0.75      0.839      0.632\n",
            "            cell phone        128          8          1      0.915      0.995      0.684\n",
            "             microwave        128          3      0.907          1      0.995      0.882\n",
            "                  oven        128          5      0.934          1      0.995      0.774\n",
            "                  sink        128          6          1      0.823      0.886      0.672\n",
            "          refrigerator        128          5      0.953          1      0.995      0.892\n",
            "                  book        128         29       0.94      0.545      0.786      0.485\n",
            "                 clock        128          9      0.982          1      0.995      0.867\n",
            "                  vase        128          2      0.878          1      0.995      0.945\n",
            "              scissors        128          1          1          0      0.497      0.249\n",
            "            teddy bear        128         21      0.998          1      0.995      0.841\n",
            "            toothbrush        128          5      0.931          1      0.995       0.83\n",
            "Results saved to \u001b[1mruns/train/exp2\u001b[0m\n"
          ]
        }
      ],
      "source": [
        "# Train YOLOv5\n",
        "!python train.py --img 640 --batch 16 --epochs 60 --data custom_data.yaml --weights yolov5s.pt\n"
      ]
    },
    {
      "cell_type": "code",
      "execution_count": null,
      "metadata": {
        "colab": {
          "base_uri": "https://localhost:8080/",
          "height": 512
        },
        "id": "-hHyJxct-5qA",
        "outputId": "319a03a2-137f-4643-c424-32f691a1ffa0"
      },
      "outputs": [
        {
          "name": "stdout",
          "output_type": "stream",
          "text": [
            "\u001b[34m\u001b[1mdetect: \u001b[0mweights=['/content/drive/MyDrive/yolov5/runs/train/exp/weights/best.pt'], source=data/images/1.jpg, data=data/coco128.yaml, imgsz=[640, 640], conf_thres=0.25, iou_thres=0.45, max_det=1000, device=, view_img=False, save_txt=False, save_conf=False, save_crop=False, nosave=False, classes=None, agnostic_nms=False, augment=False, visualize=False, update=False, project=runs/detect, name=exp, exist_ok=False, line_thickness=3, hide_labels=False, hide_conf=False, half=False, dnn=False, vid_stride=1\n",
            "YOLOv5 🚀 v7.0-203-g0897415 Python-3.10.12 torch-2.0.1+cu118 CUDA:0 (Tesla T4, 15102MiB)\n",
            "\n",
            "Fusing layers... \n",
            "Model summary: 157 layers, 7012822 parameters, 0 gradients, 15.8 GFLOPs\n",
            "image 1/1 /content/drive/MyDrive/yolov5/data/images/1.jpg: 384x640 9 persons, 42.1ms\n",
            "Speed: 0.5ms pre-process, 42.1ms inference, 76.1ms NMS per image at shape (1, 3, 640, 640)\n",
            "Results saved to \u001b[1mruns/detect/exp6\u001b[0m\n"
          ]
        },
        {
          "data": {
            "image/jpeg": "[encoded data removed]",
            "text/plain": [
              "<IPython.core.display.Image object>"
            ]
          },
          "execution_count": 15,
          "metadata": {
            "image/jpeg": {
              "width": 600
            }
          },
          "output_type": "execute_result"
        }
      ],
      "source": [
        "!python detect.py --weights /content/drive/MyDrive/yolov5/runs/train/exp/weights/best.pt --img 640 --conf 0.25 --source data/images/1.jpg\n",
        "display.Image(filename='runs/detect/exp5/1.jpg', width=600)"
      ]
    }
  ],
  "metadata": {
    "accelerator": "GPU",
    "colab": {
      "provenance": []
    },
    "kernelspec": {
      "display_name": "Python 3",
      "name": "python3"
    },
    "language_info": {
      "name": "python"
    }
  },
  "nbformat": 4,
  "nbformat_minor": 0
}
